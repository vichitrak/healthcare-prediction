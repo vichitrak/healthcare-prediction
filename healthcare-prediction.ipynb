{
 "cells": [
  {
   "cell_type": "markdown",
   "id": "f3e77108",
   "metadata": {},
   "source": [
    "### Import Libraries"
   ]
  },
  {
   "cell_type": "code",
   "execution_count": 1,
   "id": "4c83581c-ca57-4897-bea3-0e1c5b038675",
   "metadata": {},
   "outputs": [],
   "source": [
    "import sklearn\n",
    "import warnings\n",
    "import numpy as np\n",
    "import pandas as pd\n",
    "import seaborn as sns\n",
    "import xgboost as xgb\n",
    "import matplotlib.pyplot as plt\n",
    "\n",
    "from sklearn.svm import SVR\n",
    "from sklearn.svm import LinearSVR\n",
    "from sklearn.linear_model import Lasso\n",
    "from sklearn.model_selection import KFold\n",
    "from sklearn.pipeline import make_pipeline\n",
    "from sklearn.metrics import mean_absolute_error\n",
    "from sklearn.preprocessing import StandardScaler\n",
    "from sklearn.model_selection import GridSearchCV\n",
    "from sklearn.preprocessing import StandardScaler\n",
    "from sklearn.ensemble import RandomForestRegressor\n",
    "from sklearn.model_selection import train_test_split\n",
    "\n",
    "warnings.filterwarnings('ignore')\n",
    "pd.set_option('display.max_rows', 1000)\n",
    "pd.set_option('display.max_columns', 100)"
   ]
  },
  {
   "cell_type": "markdown",
   "id": "6add5bf7",
   "metadata": {},
   "source": [
    "### Load Data"
   ]
  },
  {
   "cell_type": "code",
   "execution_count": 2,
   "id": "37e1d17a-1672-41dd-85b4-2d40bcf8a9ee",
   "metadata": {},
   "outputs": [
    {
     "name": "stdout",
     "output_type": "stream",
     "text": [
      "rows:432600 | columns:18\n"
     ]
    }
   ],
   "source": [
    "main_df = pd.read_csv('train.csv')\n",
    "print(f\"rows:{main_df.shape[0]} | columns:{main_df.shape[1]}\")"
   ]
  },
  {
   "cell_type": "code",
   "execution_count": 3,
   "id": "e213cabe",
   "metadata": {},
   "outputs": [
    {
     "name": "stdout",
     "output_type": "stream",
     "text": [
      "<class 'pandas.core.frame.DataFrame'>\n",
      "RangeIndex: 432600 entries, 0 to 432599\n",
      "Data columns (total 18 columns):\n",
      " #   Column  Non-Null Count   Dtype  \n",
      "---  ------  --------------   -----  \n",
      " 0   obs     432600 non-null  int64  \n",
      " 1   sub_id  432600 non-null  int64  \n",
      " 2   time    432600 non-null  object \n",
      " 3   num_0   432600 non-null  float64\n",
      " 4   num_1   432600 non-null  int64  \n",
      " 5   num_2   432600 non-null  int64  \n",
      " 6   cat_0   432600 non-null  int64  \n",
      " 7   cat_1   432600 non-null  int64  \n",
      " 8   cat_2   432600 non-null  int64  \n",
      " 9   cat_3   432600 non-null  int64  \n",
      " 10  cat_4   432600 non-null  int64  \n",
      " 11  t_0     432600 non-null  float64\n",
      " 12  t_1     432600 non-null  float64\n",
      " 13  t_2     432600 non-null  float64\n",
      " 14  t_3     432600 non-null  float64\n",
      " 15  t_4     432600 non-null  float64\n",
      " 16  y_1     432600 non-null  float64\n",
      " 17  y_2     432600 non-null  float64\n",
      "dtypes: float64(8), int64(9), object(1)\n",
      "memory usage: 59.4+ MB\n"
     ]
    }
   ],
   "source": [
    "main_df.info(verbose=True)"
   ]
  },
  {
   "cell_type": "code",
   "execution_count": 4,
   "id": "9d5f27cc",
   "metadata": {},
   "outputs": [
    {
     "data": {
      "text/plain": [
       "0"
      ]
     },
     "execution_count": 4,
     "metadata": {},
     "output_type": "execute_result"
    }
   ],
   "source": [
    "(main_df.groupby('obs')['sub_id'].count() != 30).sum()"
   ]
  },
  {
   "cell_type": "code",
   "execution_count": 5,
   "id": "d5f53629",
   "metadata": {},
   "outputs": [],
   "source": [
    "def check_unique_counts(df):\n",
    "    col_name = []\n",
    "    counts = []\n",
    "    for col in df.columns:\n",
    "        col_name.append(col)\n",
    "        counts.append(df[col].nunique())\n",
    "    d = {'columns': col_name, 'unique_count': counts}\n",
    "    dff = pd.DataFrame(d).sort_values(by='unique_count', ascending=False)\n",
    "    return dff"
   ]
  },
  {
   "cell_type": "code",
   "execution_count": 6,
   "id": "ed5b0da6",
   "metadata": {},
   "outputs": [
    {
     "data": {
      "text/html": [
       "<div>\n",
       "<style scoped>\n",
       "    .dataframe tbody tr th:only-of-type {\n",
       "        vertical-align: middle;\n",
       "    }\n",
       "\n",
       "    .dataframe tbody tr th {\n",
       "        vertical-align: top;\n",
       "    }\n",
       "\n",
       "    .dataframe thead th {\n",
       "        text-align: right;\n",
       "    }\n",
       "</style>\n",
       "<table border=\"1\" class=\"dataframe\">\n",
       "  <thead>\n",
       "    <tr style=\"text-align: right;\">\n",
       "      <th></th>\n",
       "      <th>columns</th>\n",
       "      <th>unique_count</th>\n",
       "    </tr>\n",
       "  </thead>\n",
       "  <tbody>\n",
       "    <tr>\n",
       "      <th>2</th>\n",
       "      <td>time</td>\n",
       "      <td>432352</td>\n",
       "    </tr>\n",
       "    <tr>\n",
       "      <th>0</th>\n",
       "      <td>obs</td>\n",
       "      <td>14420</td>\n",
       "    </tr>\n",
       "    <tr>\n",
       "      <th>13</th>\n",
       "      <td>t_2</td>\n",
       "      <td>9424</td>\n",
       "    </tr>\n",
       "    <tr>\n",
       "      <th>15</th>\n",
       "      <td>t_4</td>\n",
       "      <td>7433</td>\n",
       "    </tr>\n",
       "    <tr>\n",
       "      <th>11</th>\n",
       "      <td>t_0</td>\n",
       "      <td>5972</td>\n",
       "    </tr>\n",
       "    <tr>\n",
       "      <th>17</th>\n",
       "      <td>y_2</td>\n",
       "      <td>5601</td>\n",
       "    </tr>\n",
       "    <tr>\n",
       "      <th>14</th>\n",
       "      <td>t_3</td>\n",
       "      <td>5462</td>\n",
       "    </tr>\n",
       "    <tr>\n",
       "      <th>16</th>\n",
       "      <td>y_1</td>\n",
       "      <td>4706</td>\n",
       "    </tr>\n",
       "    <tr>\n",
       "      <th>12</th>\n",
       "      <td>t_1</td>\n",
       "      <td>1622</td>\n",
       "    </tr>\n",
       "    <tr>\n",
       "      <th>1</th>\n",
       "      <td>sub_id</td>\n",
       "      <td>1596</td>\n",
       "    </tr>\n",
       "    <tr>\n",
       "      <th>4</th>\n",
       "      <td>num_1</td>\n",
       "      <td>76</td>\n",
       "    </tr>\n",
       "    <tr>\n",
       "      <th>3</th>\n",
       "      <td>num_0</td>\n",
       "      <td>71</td>\n",
       "    </tr>\n",
       "    <tr>\n",
       "      <th>5</th>\n",
       "      <td>num_2</td>\n",
       "      <td>20</td>\n",
       "    </tr>\n",
       "    <tr>\n",
       "      <th>7</th>\n",
       "      <td>cat_1</td>\n",
       "      <td>5</td>\n",
       "    </tr>\n",
       "    <tr>\n",
       "      <th>6</th>\n",
       "      <td>cat_0</td>\n",
       "      <td>2</td>\n",
       "    </tr>\n",
       "    <tr>\n",
       "      <th>8</th>\n",
       "      <td>cat_2</td>\n",
       "      <td>2</td>\n",
       "    </tr>\n",
       "    <tr>\n",
       "      <th>10</th>\n",
       "      <td>cat_4</td>\n",
       "      <td>2</td>\n",
       "    </tr>\n",
       "    <tr>\n",
       "      <th>9</th>\n",
       "      <td>cat_3</td>\n",
       "      <td>2</td>\n",
       "    </tr>\n",
       "  </tbody>\n",
       "</table>\n",
       "</div>"
      ],
      "text/plain": [
       "   columns  unique_count\n",
       "2     time        432352\n",
       "0      obs         14420\n",
       "13     t_2          9424\n",
       "15     t_4          7433\n",
       "11     t_0          5972\n",
       "17     y_2          5601\n",
       "14     t_3          5462\n",
       "16     y_1          4706\n",
       "12     t_1          1622\n",
       "1   sub_id          1596\n",
       "4    num_1            76\n",
       "3    num_0            71\n",
       "5    num_2            20\n",
       "7    cat_1             5\n",
       "6    cat_0             2\n",
       "8    cat_2             2\n",
       "10   cat_4             2\n",
       "9    cat_3             2"
      ]
     },
     "execution_count": 6,
     "metadata": {},
     "output_type": "execute_result"
    }
   ],
   "source": [
    "check_unique_counts(main_df)"
   ]
  },
  {
   "cell_type": "code",
   "execution_count": 7,
   "id": "3dd682d2",
   "metadata": {},
   "outputs": [
    {
     "data": {
      "text/plain": [
       "14420"
      ]
     },
     "execution_count": 7,
     "metadata": {},
     "output_type": "execute_result"
    }
   ],
   "source": [
    "main_df['obs'].nunique()"
   ]
  },
  {
   "cell_type": "markdown",
   "id": "1cc54519",
   "metadata": {},
   "source": [
    "### Initial Observations\n",
    "- There are total 14420 unique observations\n",
    "- Each 'obs' has 30 records\n",
    "- There are no null values in data\n",
    "- There are 4 binary variables i.e. `cat_0` - `cat_3`\n",
    "- `cat_1` variable has 5 categories\n",
    "- There are 5 continuos variables i.e. `t_0` - `t_4`\n",
    "- There are two target variables i.e. `y_1` and `y_2`"
   ]
  },
  {
   "cell_type": "code",
   "execution_count": 8,
   "id": "38fca94e",
   "metadata": {},
   "outputs": [
    {
     "data": {
      "text/plain": [
       "num_0    0\n",
       "num_1    0\n",
       "num_2    0\n",
       "y_1      0\n",
       "y_2      0\n",
       "dtype: int64"
      ]
     },
     "execution_count": 8,
     "metadata": {},
     "output_type": "execute_result"
    }
   ],
   "source": [
    "(main_df.groupby('obs')['num_0', 'num_1', 'num_2', 'y_1', 'y_2'].count() != 30).sum()"
   ]
  },
  {
   "cell_type": "markdown",
   "id": "6fb7b062",
   "metadata": {},
   "source": [
    "- An interesting observation about variable `num_0, num_1, num_2, y_1 and y_2` is that for all 30 records of an observation, value doesn't change."
   ]
  },
  {
   "cell_type": "markdown",
   "id": "97dbddb0",
   "metadata": {},
   "source": [
    "## EDA"
   ]
  },
  {
   "cell_type": "code",
   "execution_count": 9,
   "id": "e43cd088",
   "metadata": {},
   "outputs": [],
   "source": [
    "t_cols = ['t_0', 't_1', 't_2', 't_3', 't_4']\n",
    "target_cols = ['y_1', 'y_2']\n",
    "cat_cols = ['cat_0', 'cat_1', 'cat_2', 'cat_3', 'cat_4']"
   ]
  },
  {
   "cell_type": "markdown",
   "id": "e997250d",
   "metadata": {},
   "source": [
    "**Distribution of continuous variables**"
   ]
  },
  {
   "cell_type": "code",
   "execution_count": 10,
   "id": "af6a5388",
   "metadata": {},
   "outputs": [
    {
     "data": {
      "image/png": "[encoded data removed]",
      "text/plain": [
       "<Figure size 1800x300 with 5 Axes>"
      ]
     },
     "metadata": {},
     "output_type": "display_data"
    }
   ],
   "source": [
    "main_df[t_cols].hist(layout=(1,5), figsize=(18,3))\n",
    "plt.show()"
   ]
  },
  {
   "cell_type": "markdown",
   "id": "ea9f50d6",
   "metadata": {},
   "source": [
    "**Distribution of categorical variables**"
   ]
  },
  {
   "cell_type": "code",
   "execution_count": 11,
   "id": "d4b38586",
   "metadata": {},
   "outputs": [
    {
     "data": {
      "image/png": "[encoded data removed]",
      "text/plain": [
       "<Figure size 2500x300 with 5 Axes>"
      ]
     },
     "metadata": {},
     "output_type": "display_data"
    }
   ],
   "source": [
    "fig, axs = plt.subplots(1, 5, figsize=(25, 3))\n",
    "\n",
    "for i in range(5):\n",
    "    col_name = 'cat_' + str(i)\n",
    "    val_counts = main_df[col_name].value_counts()\n",
    "    axs[i].bar( val_counts.index, val_counts.values)\n",
    "    axs[i].set_title(col_name)\n",
    "plt.show()"
   ]
  },
  {
   "cell_type": "markdown",
   "id": "63a802bd",
   "metadata": {},
   "source": [
    "**Distribution of target variables**"
   ]
  },
  {
   "cell_type": "code",
   "execution_count": 12,
   "id": "9f331a3c",
   "metadata": {},
   "outputs": [
    {
     "data": {
      "image/png": "[encoded data removed]",
      "text/plain": [
       "<Figure size 1600x500 with 2 Axes>"
      ]
     },
     "metadata": {},
     "output_type": "display_data"
    }
   ],
   "source": [
    "main_df[target_cols].hist(layout=(1,2), figsize=(16,5))\n",
    "plt.show()"
   ]
  },
  {
   "cell_type": "markdown",
   "id": "1dc8dc4d",
   "metadata": {},
   "source": [
    "## Data Processing"
   ]
  },
  {
   "cell_type": "code",
   "execution_count": 13,
   "id": "c031035a",
   "metadata": {},
   "outputs": [],
   "source": [
    "train_df = main_df.copy()"
   ]
  },
  {
   "cell_type": "code",
   "execution_count": 14,
   "id": "35398568",
   "metadata": {},
   "outputs": [],
   "source": [
    "train_df['time'] = pd.to_datetime(train_df['time'])"
   ]
  },
  {
   "cell_type": "markdown",
   "id": "98985e36",
   "metadata": {},
   "source": [
    "**drop irrelevant columns**"
   ]
  },
  {
   "cell_type": "code",
   "execution_count": 15,
   "id": "5856fad7",
   "metadata": {},
   "outputs": [
    {
     "data": {
      "text/plain": [
       "(432600, 16)"
      ]
     },
     "execution_count": 15,
     "metadata": {},
     "output_type": "execute_result"
    }
   ],
   "source": [
    "train_df = train_df.drop(columns=['sub_id', 'time'])\n",
    "train_df.shape"
   ]
  },
  {
   "cell_type": "markdown",
   "id": "c2ae4627",
   "metadata": {},
   "source": [
    "**create dummy variables**"
   ]
  },
  {
   "cell_type": "code",
   "execution_count": 16,
   "id": "b09c9331",
   "metadata": {},
   "outputs": [],
   "source": [
    "train_df = pd.get_dummies(train_df, columns=['cat_0', 'cat_1','cat_2', 'cat_3', 'cat_4'])"
   ]
  },
  {
   "cell_type": "code",
   "execution_count": 18,
   "id": "aaabf87f",
   "metadata": {},
   "outputs": [],
   "source": [
    "X_train, X_val, y_train, y_val = train_test_split( train_df.drop(['y_1','y_2','obs'], axis=1), \n",
    "                                                   train_df[['y_1','y_2']],\n",
    "                                                   test_size=0.3, random_state=42\n",
    "                                                  )"
   ]
  },
  {
   "cell_type": "code",
   "execution_count": 19,
   "id": "f149ae8c",
   "metadata": {},
   "outputs": [
    {
     "data": {
      "text/plain": [
       "(302820, 21)"
      ]
     },
     "execution_count": 19,
     "metadata": {},
     "output_type": "execute_result"
    }
   ],
   "source": [
    "X_train.shape"
   ]
  },
  {
   "cell_type": "markdown",
   "id": "a0b83429",
   "metadata": {},
   "source": [
    "## Linear Model"
   ]
  },
  {
   "cell_type": "code",
   "execution_count": 20,
   "id": "0ddf119e",
   "metadata": {},
   "outputs": [
    {
     "name": "stdout",
     "output_type": "stream",
     "text": [
      "5.436609688938629\n"
     ]
    }
   ],
   "source": [
    "from sklearn.linear_model import Lasso\n",
    "lasso = Lasso()\n",
    "lasso.fit(X_train, y_train)\n",
    "\n",
    "y_val_pred = lasso.predict(X_val)\n",
    "print(mean_absolute_error(y_val, y_val_pred))"
   ]
  },
  {
   "cell_type": "markdown",
   "id": "ad4135ac",
   "metadata": {},
   "source": [
    "### Hyperparameter tuning"
   ]
  },
  {
   "cell_type": "code",
   "execution_count": 21,
   "id": "5e98b8ab",
   "metadata": {},
   "outputs": [
    {
     "name": "stdout",
     "output_type": "stream",
     "text": [
      "Best hyperparameters: {'alpha': 0.1}\n",
      "Best score: -5.404511978244486\n"
     ]
    }
   ],
   "source": [
    "lasso = Lasso()\n",
    "hyperparameters = { 'alpha': np.arange(0.1, 1, 0.1) }\n",
    "grid_search = GridSearchCV(lasso, hyperparameters, scoring = 'neg_mean_absolute_error')\n",
    "grid_search.fit(X_train, y_train)\n",
    "\n",
    "print(\"Best hyperparameters:\", grid_search.best_params_)\n",
    "print(\"Best score:\", grid_search.best_score_)"
   ]
  },
  {
   "cell_type": "code",
   "execution_count": 22,
   "id": "2bd1bf32",
   "metadata": {},
   "outputs": [
    {
     "name": "stdout",
     "output_type": "stream",
     "text": [
      "Training MAE: 5.404327298666299\n",
      "Validation MAE: 5.420778737532634\n"
     ]
    }
   ],
   "source": [
    "lasso = Lasso(alpha=grid_search.best_params_['alpha'])\n",
    "lasso.fit(X_train, y_train)\n",
    "\n",
    "y_train_pred = lasso.predict(X_train)\n",
    "y_val_pred = lasso.predict(X_val)\n",
    "print(\"Training MAE:\", mean_absolute_error(y_train, y_train_pred))\n",
    "print(\"Validation MAE:\", mean_absolute_error(y_val, y_val_pred))"
   ]
  },
  {
   "cell_type": "markdown",
   "id": "e4de315a",
   "metadata": {},
   "source": [
    "## Boosting"
   ]
  },
  {
   "cell_type": "code",
   "execution_count": 23,
   "id": "04062806",
   "metadata": {},
   "outputs": [
    {
     "name": "stdout",
     "output_type": "stream",
     "text": [
      "Training MAE: 4.428034492837533\n",
      "Validation MAE: 4.556016920551876\n"
     ]
    }
   ],
   "source": [
    "xgb_regressor = xgb.XGBRegressor()\n",
    "xgb_regressor.fit(X_train, y_train)\n",
    "\n",
    "y_train_pred = xgb_regressor.predict(X_train)\n",
    "y_val_pred = xgb_regressor.predict(X_val)\n",
    "\n",
    "print(\"Training MAE:\", mean_absolute_error(y_train, y_train_pred))\n",
    "print(\"Validation MAE:\", mean_absolute_error(y_val, y_val_pred))"
   ]
  },
  {
   "cell_type": "markdown",
   "id": "f3ecd314",
   "metadata": {},
   "source": [
    "### Hyperparameter tuning"
   ]
  },
  {
   "cell_type": "code",
   "execution_count": 24,
   "id": "79405b8f",
   "metadata": {},
   "outputs": [],
   "source": [
    "param_grid = {\n",
    "    'learning_rate': [0.1, 0.01],\n",
    "    'max_depth': [3, 5],\n",
    "    'n_estimators': [50, 100],\n",
    "    'min_child_weight': [1, 3]\n",
    "}"
   ]
  },
  {
   "cell_type": "code",
   "execution_count": 27,
   "id": "b3acb7d3",
   "metadata": {},
   "outputs": [
    {
     "data": {
      "text/html": [
       "<style>#sk-container-id-1 {color: black;background-color: white;}#sk-container-id-1 pre{padding: 0;}#sk-container-id-1 div.sk-toggleable {background-color: white;}#sk-container-id-1 label.sk-toggleable__label {cursor: pointer;display: block;width: 100%;margin-bottom: 0;padding: 0.3em;box-sizing: border-box;text-align: center;}#sk-container-id-1 label.sk-toggleable__label-arrow:before {content: \"▸\";float: left;margin-right: 0.25em;color: #696969;}#sk-container-id-1 label.sk-toggleable__label-arrow:hover:before {color: black;}#sk-container-id-1 div.sk-estimator:hover label.sk-toggleable__label-arrow:before {color: black;}#sk-container-id-1 div.sk-toggleable__content {max-height: 0;max-width: 0;overflow: hidden;text-align: left;background-color: #f0f8ff;}#sk-container-id-1 div.sk-toggleable__content pre {margin: 0.2em;color: black;border-radius: 0.25em;background-color: #f0f8ff;}#sk-container-id-1 input.sk-toggleable__control:checked~div.sk-toggleable__content {max-height: 200px;max-width: 100%;overflow: auto;}#sk-container-id-1 input.sk-toggleable__control:checked~label.sk-toggleable__label-arrow:before {content: \"▾\";}#sk-container-id-1 div.sk-estimator input.sk-toggleable__control:checked~label.sk-toggleable__label {background-color: #d4ebff;}#sk-container-id-1 div.sk-label input.sk-toggleable__control:checked~label.sk-toggleable__label {background-color: #d4ebff;}#sk-container-id-1 input.sk-hidden--visually {border: 0;clip: rect(1px 1px 1px 1px);clip: rect(1px, 1px, 1px, 1px);height: 1px;margin: -1px;overflow: hidden;padding: 0;position: absolute;width: 1px;}#sk-container-id-1 div.sk-estimator {font-family: monospace;background-color: #f0f8ff;border: 1px dotted black;border-radius: 0.25em;box-sizing: border-box;margin-bottom: 0.5em;}#sk-container-id-1 div.sk-estimator:hover {background-color: #d4ebff;}#sk-container-id-1 div.sk-parallel-item::after {content: \"\";width: 100%;border-bottom: 1px solid gray;flex-grow: 1;}#sk-container-id-1 div.sk-label:hover label.sk-toggleable__label {background-color: #d4ebff;}#sk-container-id-1 div.sk-serial::before {content: \"\";position: absolute;border-left: 1px solid gray;box-sizing: border-box;top: 0;bottom: 0;left: 50%;z-index: 0;}#sk-container-id-1 div.sk-serial {display: flex;flex-direction: column;align-items: center;background-color: white;padding-right: 0.2em;padding-left: 0.2em;position: relative;}#sk-container-id-1 div.sk-item {position: relative;z-index: 1;}#sk-container-id-1 div.sk-parallel {display: flex;align-items: stretch;justify-content: center;background-color: white;position: relative;}#sk-container-id-1 div.sk-item::before, #sk-container-id-1 div.sk-parallel-item::before {content: \"\";position: absolute;border-left: 1px solid gray;box-sizing: border-box;top: 0;bottom: 0;left: 50%;z-index: -1;}#sk-container-id-1 div.sk-parallel-item {display: flex;flex-direction: column;z-index: 1;position: relative;background-color: white;}#sk-container-id-1 div.sk-parallel-item:first-child::after {align-self: flex-end;width: 50%;}#sk-container-id-1 div.sk-parallel-item:last-child::after {align-self: flex-start;width: 50%;}#sk-container-id-1 div.sk-parallel-item:only-child::after {width: 0;}#sk-container-id-1 div.sk-dashed-wrapped {border: 1px dashed gray;margin: 0 0.4em 0.5em 0.4em;box-sizing: border-box;padding-bottom: 0.4em;background-color: white;}#sk-container-id-1 div.sk-label label {font-family: monospace;font-weight: bold;display: inline-block;line-height: 1.2em;}#sk-container-id-1 div.sk-label-container {text-align: center;}#sk-container-id-1 div.sk-container {/* jupyter's `normalize.less` sets `[hidden] { display: none; }` but bootstrap.min.css set `[hidden] { display: none !important; }` so we also need the `!important` here to be able to override the default hidden behavior on the sphinx rendered scikit-learn.org. See: https://github.com/scikit-learn/scikit-learn/issues/21755 */display: inline-block !important;position: relative;}#sk-container-id-1 div.sk-text-repr-fallback {display: none;}</style><div id=\"sk-container-id-1\" class=\"sk-top-container\"><div class=\"sk-text-repr-fallback\"><pre>GridSearchCV(cv=5,\n",
       "             estimator=XGBRegressor(base_score=0.5, booster=&#x27;gbtree&#x27;,\n",
       "                                    callbacks=None, colsample_bylevel=1,\n",
       "                                    colsample_bynode=1, colsample_bytree=1,\n",
       "                                    early_stopping_rounds=None,\n",
       "                                    enable_categorical=False, eval_metric=None,\n",
       "                                    gamma=0, gpu_id=-1, grow_policy=&#x27;depthwise&#x27;,\n",
       "                                    importance_type=None,\n",
       "                                    interaction_constraints=&#x27;&#x27;,\n",
       "                                    learning_rate=0.300000012, max_bin=256,\n",
       "                                    max_cat_to_onehot=4, max_delta_step=0,\n",
       "                                    max_depth=6, max_leaves=0,\n",
       "                                    min_child_weight=1, missing=nan,\n",
       "                                    monotone_constraints=&#x27;()&#x27;, n_estimators=100,\n",
       "                                    n_jobs=0, num_parallel_tree=1,\n",
       "                                    predictor=&#x27;auto&#x27;, random_state=0,\n",
       "                                    reg_alpha=0, reg_lambda=1, ...),\n",
       "             param_grid={&#x27;learning_rate&#x27;: [0.1, 0.01], &#x27;max_depth&#x27;: [3, 5],\n",
       "                         &#x27;min_child_weight&#x27;: [1, 3],\n",
       "                         &#x27;n_estimators&#x27;: [50, 100]})</pre><b>In a Jupyter environment, please rerun this cell to show the HTML representation or trust the notebook. <br />On GitHub, the HTML representation is unable to render, please try loading this page with nbviewer.org.</b></div><div class=\"sk-container\" hidden><div class=\"sk-item sk-dashed-wrapped\"><div class=\"sk-label-container\"><div class=\"sk-label sk-toggleable\"><input class=\"sk-toggleable__control sk-hidden--visually\" id=\"sk-estimator-id-1\" type=\"checkbox\" ><label for=\"sk-estimator-id-1\" class=\"sk-toggleable__label sk-toggleable__label-arrow\">GridSearchCV</label><div class=\"sk-toggleable__content\"><pre>GridSearchCV(cv=5,\n",
       "             estimator=XGBRegressor(base_score=0.5, booster=&#x27;gbtree&#x27;,\n",
       "                                    callbacks=None, colsample_bylevel=1,\n",
       "                                    colsample_bynode=1, colsample_bytree=1,\n",
       "                                    early_stopping_rounds=None,\n",
       "                                    enable_categorical=False, eval_metric=None,\n",
       "                                    gamma=0, gpu_id=-1, grow_policy=&#x27;depthwise&#x27;,\n",
       "                                    importance_type=None,\n",
       "                                    interaction_constraints=&#x27;&#x27;,\n",
       "                                    learning_rate=0.300000012, max_bin=256,\n",
       "                                    max_cat_to_onehot=4, max_delta_step=0,\n",
       "                                    max_depth=6, max_leaves=0,\n",
       "                                    min_child_weight=1, missing=nan,\n",
       "                                    monotone_constraints=&#x27;()&#x27;, n_estimators=100,\n",
       "                                    n_jobs=0, num_parallel_tree=1,\n",
       "                                    predictor=&#x27;auto&#x27;, random_state=0,\n",
       "                                    reg_alpha=0, reg_lambda=1, ...),\n",
       "             param_grid={&#x27;learning_rate&#x27;: [0.1, 0.01], &#x27;max_depth&#x27;: [3, 5],\n",
       "                         &#x27;min_child_weight&#x27;: [1, 3],\n",
       "                         &#x27;n_estimators&#x27;: [50, 100]})</pre></div></div></div><div class=\"sk-parallel\"><div class=\"sk-parallel-item\"><div class=\"sk-item\"><div class=\"sk-label-container\"><div class=\"sk-label sk-toggleable\"><input class=\"sk-toggleable__control sk-hidden--visually\" id=\"sk-estimator-id-2\" type=\"checkbox\" ><label for=\"sk-estimator-id-2\" class=\"sk-toggleable__label sk-toggleable__label-arrow\">estimator: XGBRegressor</label><div class=\"sk-toggleable__content\"><pre>XGBRegressor(base_score=0.5, booster=&#x27;gbtree&#x27;, callbacks=None,\n",
       "             colsample_bylevel=1, colsample_bynode=1, colsample_bytree=1,\n",
       "             early_stopping_rounds=None, enable_categorical=False,\n",
       "             eval_metric=None, gamma=0, gpu_id=-1, grow_policy=&#x27;depthwise&#x27;,\n",
       "             importance_type=None, interaction_constraints=&#x27;&#x27;,\n",
       "             learning_rate=0.300000012, max_bin=256, max_cat_to_onehot=4,\n",
       "             max_delta_step=0, max_depth=6, max_leaves=0, min_child_weight=1,\n",
       "             missing=nan, monotone_constraints=&#x27;()&#x27;, n_estimators=100, n_jobs=0,\n",
       "             num_parallel_tree=1, predictor=&#x27;auto&#x27;, random_state=0, reg_alpha=0,\n",
       "             reg_lambda=1, ...)</pre></div></div></div><div class=\"sk-serial\"><div class=\"sk-item\"><div class=\"sk-estimator sk-toggleable\"><input class=\"sk-toggleable__control sk-hidden--visually\" id=\"sk-estimator-id-3\" type=\"checkbox\" ><label for=\"sk-estimator-id-3\" class=\"sk-toggleable__label sk-toggleable__label-arrow\">XGBRegressor</label><div class=\"sk-toggleable__content\"><pre>XGBRegressor(base_score=0.5, booster=&#x27;gbtree&#x27;, callbacks=None,\n",
       "             colsample_bylevel=1, colsample_bynode=1, colsample_bytree=1,\n",
       "             early_stopping_rounds=None, enable_categorical=False,\n",
       "             eval_metric=None, gamma=0, gpu_id=-1, grow_policy=&#x27;depthwise&#x27;,\n",
       "             importance_type=None, interaction_constraints=&#x27;&#x27;,\n",
       "             learning_rate=0.300000012, max_bin=256, max_cat_to_onehot=4,\n",
       "             max_delta_step=0, max_depth=6, max_leaves=0, min_child_weight=1,\n",
       "             missing=nan, monotone_constraints=&#x27;()&#x27;, n_estimators=100, n_jobs=0,\n",
       "             num_parallel_tree=1, predictor=&#x27;auto&#x27;, random_state=0, reg_alpha=0,\n",
       "             reg_lambda=1, ...)</pre></div></div></div></div></div></div></div></div></div></div>"
      ],
      "text/plain": [
       "GridSearchCV(cv=5,\n",
       "             estimator=XGBRegressor(base_score=0.5, booster='gbtree',\n",
       "                                    callbacks=None, colsample_bylevel=1,\n",
       "                                    colsample_bynode=1, colsample_bytree=1,\n",
       "                                    early_stopping_rounds=None,\n",
       "                                    enable_categorical=False, eval_metric=None,\n",
       "                                    gamma=0, gpu_id=-1, grow_policy='depthwise',\n",
       "                                    importance_type=None,\n",
       "                                    interaction_constraints='',\n",
       "                                    learning_rate=0.300000012, max_bin=256,\n",
       "                                    max_cat_to_onehot=4, max_delta_step=0,\n",
       "                                    max_depth=6, max_leaves=0,\n",
       "                                    min_child_weight=1, missing=nan,\n",
       "                                    monotone_constraints='()', n_estimators=100,\n",
       "                                    n_jobs=0, num_parallel_tree=1,\n",
       "                                    predictor='auto', random_state=0,\n",
       "                                    reg_alpha=0, reg_lambda=1, ...),\n",
       "             param_grid={'learning_rate': [0.1, 0.01], 'max_depth': [3, 5],\n",
       "                         'min_child_weight': [1, 3],\n",
       "                         'n_estimators': [50, 100]})"
      ]
     },
     "execution_count": 27,
     "metadata": {},
     "output_type": "execute_result"
    }
   ],
   "source": [
    "grid_search = GridSearchCV(xgb_regressor, param_grid, cv=5)\n",
    "grid_search.fit(X_train, y_train)"
   ]
  },
  {
   "cell_type": "code",
   "execution_count": 28,
   "id": "3063d901",
   "metadata": {},
   "outputs": [
    {
     "name": "stdout",
     "output_type": "stream",
     "text": [
      "Best parameters: {'learning_rate': 0.1, 'max_depth': 5, 'min_child_weight': 1, 'n_estimators': 100}\n",
      "Best score: 0.7565086669417461\n"
     ]
    }
   ],
   "source": [
    "print(\"Best parameters:\", grid_search.best_params_)\n",
    "print(\"Best score:\", grid_search.best_score_)"
   ]
  },
  {
   "cell_type": "code",
   "execution_count": 57,
   "id": "95cbe92f",
   "metadata": {},
   "outputs": [],
   "source": [
    "param_grid = {\n",
    "    'learning_rate': grid_search.best_params_['learning_rate'],\n",
    "    'max_depth': grid_search.best_params_['max_depth'],\n",
    "    'n_estimators': grid_search.best_params_['min_child_weight'],\n",
    "    'min_child_weight': min_child_weight['n_estimators']\n",
    "}"
   ]
  },
  {
   "cell_type": "code",
   "execution_count": null,
   "id": "d0b2dbbb",
   "metadata": {},
   "outputs": [],
   "source": [
    "xgb_regressor = xgb.XGBRegressor(param_grid)\n",
    "xgb_regressor.fit(X_train, y_train)\n",
    "\n",
    "y_train_pred = xgb_regressor.predict(X_train)\n",
    "y_val_pred = xgb_regressor.predict(X_val)\n",
    "\n",
    "print(\"Training MAE:\", mean_absolute_error(y_train, y_train_pred))\n",
    "print(\"Validation MAE:\", mean_absolute_error(y_val, y_val_pred))"
   ]
  },
  {
   "cell_type": "markdown",
   "id": "d8fae045",
   "metadata": {},
   "source": [
    "## Approach 1: Data Aggregation"
   ]
  },
  {
   "cell_type": "code",
   "execution_count": 29,
   "id": "0de1e381",
   "metadata": {},
   "outputs": [],
   "source": [
    "grouped = main_df.copy()\n",
    "grouped = grouped.groupby(grouped.obs).mean()\n",
    "\n",
    "for col in grouped.columns:\n",
    "    if col.startswith('cat'):\n",
    "        grouped[col] = grouped[col].astype(\"category\")\n",
    "        \n",
    "grouped = pd.get_dummies(grouped)\n",
    "\n",
    "X_train, X_val, y_train, y_val = train_test_split(\n",
    "                                    grouped.drop(['y_1','y_2'], axis=1), \n",
    "                                    grouped[['y_1','y_2']], test_size=0.3, random_state=42)"
   ]
  },
  {
   "cell_type": "code",
   "execution_count": 30,
   "id": "4346b991",
   "metadata": {},
   "outputs": [
    {
     "name": "stdout",
     "output_type": "stream",
     "text": [
      "Best hyperparameters: {'alpha': 0.1}\n",
      "Best score: -4.717304842184112\n"
     ]
    }
   ],
   "source": [
    "lasso = Lasso()\n",
    "hyperparameters = { 'alpha': np.arange(0.1, 1, 0.1) }\n",
    "grid_search = GridSearchCV(lasso, hyperparameters, scoring = 'neg_mean_absolute_error')\n",
    "grid_search.fit(X_train, y_train)\n",
    "\n",
    "print(\"Best hyperparameters:\", grid_search.best_params_)\n",
    "print(\"Best score:\", grid_search.best_score_)"
   ]
  },
  {
   "cell_type": "markdown",
   "id": "8a226b50",
   "metadata": {},
   "source": [
    "## Approach 2: Data Transformation"
   ]
  },
  {
   "cell_type": "markdown",
   "id": "e7275dbf",
   "metadata": {},
   "source": [
    "**Since for one observation, values in columns doesn't change except t_0 - t_4; we group by the rest of the columns on observation and created wide dataframe on 4 columns i.e. t_0 - t_4**"
   ]
  },
  {
   "cell_type": "code",
   "execution_count": 31,
   "id": "b92092e8",
   "metadata": {},
   "outputs": [],
   "source": [
    "def create_wide_df(train_val, unique_obs, cols=None):\n",
    "    \n",
    "    \"\"\" Function to create wide dataframe\n",
    "    It creates a dictionary where key is an observation \n",
    "    and value is a list of values from columns t_0 - t_4 \n",
    "    appended into one array. \n",
    "    obs: np.array(150 values because 5 columns and 30 values in each column for one `obs`)\n",
    "    \"\"\"\n",
    "    \n",
    "    temp_cols = cols[1:]\n",
    "    d = {}\n",
    "    for obs in unique_obs:\n",
    "        lst = []\n",
    "        temp_df = None\n",
    "        temp_df = train_val[train_val['obs'] == obs][cols]#.copy()\n",
    "        for col in temp_cols:\n",
    "            lst.append(temp_df[col].tolist())\n",
    "        d[obs] = np.array(lst).flatten()\n",
    "\n",
    "    return d, pd.DataFrame(d).T"
   ]
  },
  {
   "cell_type": "code",
   "execution_count": 32,
   "id": "b23ef364",
   "metadata": {},
   "outputs": [],
   "source": [
    "def manuplate_df(df, dataset_type='Train'):\n",
    "    \n",
    "    cols_1 = ['obs', 'num_0', 'num_1', 'num_2', 'cat_0', 'cat_1', 'cat_2', 'cat_3', 'cat_4', 'y_1', 'y_2']\n",
    "    cols_2 = ['obs', 't_0', 't_1', 't_2', 't_3', 't_4']\n",
    "    \n",
    "    if dataset_type == 'Test':\n",
    "        cols_1 = [i for i in cols_1 if i not in ('y_1', 'y_2')]\n",
    "\n",
    "    half_1_df = df[cols_1].copy().set_index('obs')\n",
    "    half_1_agg_df = half_1_df.groupby('obs').mean()\n",
    "    \n",
    "    unique_obs = list(set(df['obs'].tolist()))\n",
    "    d, man_df = create_wide_df(df, unique_obs, cols = cols_2)\n",
    "    col_names = [ 'col_' + str(i) for i in range(len(man_df.columns))]\n",
    "    man_df.columns = col_names\n",
    "    \n",
    "    final_df = pd.concat([half_1_agg_df, man_df], axis=1)\n",
    "    \n",
    "    return final_df"
   ]
  },
  {
   "cell_type": "code",
   "execution_count": 33,
   "id": "d946ccbc",
   "metadata": {},
   "outputs": [],
   "source": [
    "train_df = main_df.copy()\n",
    "manu_train_df = manuplate_df(train_df, dataset_type='Train')"
   ]
  },
  {
   "cell_type": "code",
   "execution_count": 34,
   "id": "c4f98424",
   "metadata": {},
   "outputs": [],
   "source": [
    "def get_dummies(df, col=None):\n",
    "    for col in df.columns:\n",
    "        if col.startswith('cat'):\n",
    "            df[col] = df[col].astype(\"category\")\n",
    "    df = pd.get_dummies(df)\n",
    "    return df"
   ]
  },
  {
   "cell_type": "code",
   "execution_count": 35,
   "id": "de2e28fc",
   "metadata": {},
   "outputs": [],
   "source": [
    "manu_train_df = get_dummies(manu_train_df)"
   ]
  },
  {
   "cell_type": "code",
   "execution_count": 36,
   "id": "ea5d654a",
   "metadata": {},
   "outputs": [],
   "source": [
    "X_train, X_val, y_train, y_val = train_test_split(\n",
    "                                    manu_train_df.drop(['y_1','y_2'], axis=1), \n",
    "                                    manu_train_df[['y_1','y_2']], test_size=0.3, random_state=42)"
   ]
  },
  {
   "cell_type": "code",
   "execution_count": 37,
   "id": "0a9f8ff8",
   "metadata": {},
   "outputs": [
    {
     "name": "stdout",
     "output_type": "stream",
     "text": [
      "Best hyperparameters: {'alpha': 0.7000000000000001}\n",
      "Best score: -4.263801079431115\n"
     ]
    }
   ],
   "source": [
    "lasso = Lasso()\n",
    "hyperparameters = { 'alpha': np.arange(0.1, 1, 0.1) }\n",
    "grid_search = GridSearchCV(lasso, hyperparameters, scoring = 'neg_mean_absolute_error')\n",
    "grid_search.fit(X_train, y_train)\n",
    "\n",
    "print(\"Best hyperparameters:\", grid_search.best_params_)\n",
    "print(\"Best score:\", grid_search.best_score_)"
   ]
  },
  {
   "cell_type": "code",
   "execution_count": 38,
   "id": "1c7774d8",
   "metadata": {},
   "outputs": [
    {
     "name": "stdout",
     "output_type": "stream",
     "text": [
      "Training MAE 4.239514250150114\n",
      "Validation MAE 4.20181051894314\n"
     ]
    }
   ],
   "source": [
    "lasso = Lasso(alpha=grid_search.best_params_['alpha'])\n",
    "lasso.fit(X_train, y_train)\n",
    "\n",
    "y_train_pred = lasso.predict(X_train)\n",
    "y_val_pred = lasso.predict(X_val)\n",
    "print(\"Training MAE\", mean_absolute_error(y_train, y_train_pred))\n",
    "print(\"Validation MAE\", mean_absolute_error(y_val, y_val_pred))"
   ]
  },
  {
   "cell_type": "markdown",
   "id": "27e10637",
   "metadata": {},
   "source": [
    "### SVR Model"
   ]
  },
  {
   "cell_type": "markdown",
   "id": "bca2f28c",
   "metadata": {},
   "source": [
    "**Taking a look at modified columns from original t_ columns and the target**"
   ]
  },
  {
   "cell_type": "code",
   "execution_count": 39,
   "id": "cf2c90ec",
   "metadata": {},
   "outputs": [],
   "source": [
    "mod_cols = ['col_' + str(i) for i in range(150)]"
   ]
  },
  {
   "cell_type": "code",
   "execution_count": 40,
   "id": "1ecedc46",
   "metadata": {},
   "outputs": [
    {
     "data": {
      "text/plain": [
       "<AxesSubplot: >"
      ]
     },
     "execution_count": 40,
     "metadata": {},
     "output_type": "execute_result"
    },
    {
     "data": {
      "image/png": "[encoded data removed]",
      "text/plain": [
       "<Figure size 640x480 with 1 Axes>"
      ]
     },
     "metadata": {},
     "output_type": "display_data"
    }
   ],
   "source": [
    "manu_train_df[mod_cols + target_cols].plot(legend=False)"
   ]
  },
  {
   "cell_type": "code",
   "execution_count": 60,
   "id": "a9d8aba6",
   "metadata": {},
   "outputs": [],
   "source": [
    "X_train, X_val, y1_train, y1_val = train_test_split(\n",
    "                                    manu_train_df.drop(['y_1','y_2'], axis=1), \n",
    "                                    manu_train_df[['y_1']], test_size=0.2, random_state=42)\n",
    "\n",
    "X_train, X_val, y2_train, y2_val = train_test_split(\n",
    "                                    manu_train_df.drop(['y_1','y_2'], axis=1), \n",
    "                                    manu_train_df[['y_2']], test_size=0.2, random_state=42)"
   ]
  },
  {
   "cell_type": "code",
   "execution_count": 65,
   "id": "25d06596",
   "metadata": {},
   "outputs": [
    {
     "name": "stdout",
     "output_type": "stream",
     "text": [
      "Best hyperparameters for y_1: {'linearsvr__C': 0.2, 'linearsvr__tol': 1e-05}\n",
      "Best score for y_1: -4.9593146907364245\n",
      "Best hyperparameters for y_2: {'linearsvr__C': 0.8, 'linearsvr__tol': 1e-05}\n",
      "Best score for y_2: -3.3054956827421114\n"
     ]
    }
   ],
   "source": [
    "hyperparameters = { 'linearsvr__C': np.arange(0.1, 1, 0.1),\n",
    "                    'linearsvr__tol': [0.001, 0.0001, 0.00001] }\n",
    "\n",
    "\n",
    "svr_pipeline = make_pipeline(StandardScaler(), LinearSVR())\n",
    "grid_search_y1 = GridSearchCV(svr_pipeline, hyperparameters, scoring = 'neg_mean_absolute_error')\n",
    "\n",
    "grid_search_y1.fit(X_train, y1_train)\n",
    "\n",
    "print(\"Best hyperparameters for y_1:\", grid_search_y1.best_params_)\n",
    "print(\"Best score for y_1:\", grid_search_y1.best_score_)\n",
    "\n",
    "grid_search_y2 = GridSearchCV(svr_pipeline, hyperparameters, scoring = 'neg_mean_absolute_error')\n",
    "grid_search_y2.fit(X_train, y2_train)\n",
    "\n",
    "print(\"Best hyperparameters for y_2:\", grid_search_y2.best_params_)\n",
    "print(\"Best score for y_2:\", grid_search_y2.best_score_)"
   ]
  },
  {
   "cell_type": "code",
   "execution_count": 67,
   "id": "8ab6ae8c",
   "metadata": {},
   "outputs": [],
   "source": [
    "svr_pipeline_y1 = make_pipeline(StandardScaler(), LinearSVR(random_state=0, C=grid_search_y1.best_params_['linearsvr__C'], tol=grid_search_y1.best_params_['linearsvr__tol']))\n",
    "\n",
    "svr_y1 = svr_pipeline_y1.fit(X_train, y1_train)\n",
    "svr_train_y1_pred = svr_y1.predict(X_train)\n",
    "svr_val_y1_pred = svr_y1.predict(X_val)\n",
    "\n",
    "svr_pipeline_y2 = make_pipeline(StandardScaler(), LinearSVR(random_state=0, C=grid_search_y2.best_params_['linearsvr__C'], tol=grid_search_y1.best_params_['linearsvr__tol']))\n",
    "svr_y2 = svr_pipeline_y2.fit(X_train, y2_train)\n",
    "svr_train_y2_pred = svr_y2.predict(X_train)\n",
    "svr_val_y2_pred = svr_y2.predict(X_val)\n"
   ]
  },
  {
   "cell_type": "code",
   "execution_count": 68,
   "id": "35952989",
   "metadata": {},
   "outputs": [
    {
     "name": "stdout",
     "output_type": "stream",
     "text": [
      "Training MAE: 4.117631963235068\n",
      "Validation MAE:  4.018147368665255\n"
     ]
    }
   ],
   "source": [
    "print(\"Training MAE:\", mean_absolute_error(np.array([y1_train['y_1'].values, y2_train['y_2'].values]),\n",
    "                                          np.array([svr_train_y1_pred, svr_train_y2_pred])))\n",
    "\n",
    "print(\"Validation MAE: \", mean_absolute_error(np.array([y1_val['y_1'].values, y2_val['y_2'].values]),\n",
    "                                          np.array([svr_val_y1_pred, svr_val_y2_pred])))\n"
   ]
  },
  {
   "cell_type": "code",
   "execution_count": null,
   "id": "0011a487",
   "metadata": {},
   "outputs": [],
   "source": []
  },
  {
   "cell_type": "code",
   "execution_count": null,
   "id": "b32c951b",
   "metadata": {},
   "outputs": [],
   "source": []
  },
  {
   "cell_type": "code",
   "execution_count": null,
   "id": "56d9c2a8",
   "metadata": {},
   "outputs": [],
   "source": []
  },
  {
   "cell_type": "code",
   "execution_count": null,
   "id": "6aef8cde",
   "metadata": {},
   "outputs": [],
   "source": []
  },
  {
   "cell_type": "code",
   "execution_count": null,
   "id": "d3161148",
   "metadata": {},
   "outputs": [],
   "source": []
  }
 ],
 "metadata": {
  "kernelspec": {
   "display_name": "Python 3 (ipykernel)",
   "language": "python",
   "name": "python3"
  },
  "language_info": {
   "codemirror_mode": {
    "name": "ipython",
    "version": 3
   },
   "file_extension": ".py",
   "mimetype": "text/x-python",
   "name": "python",
   "nbconvert_exporter": "python",
   "pygments_lexer": "ipython3",
   "version": "3.9.13"
  }
 },
 "nbformat": 4,
 "nbformat_minor": 5
}
